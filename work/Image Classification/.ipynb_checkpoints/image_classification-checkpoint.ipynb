{
 "cells": [
  {
   "cell_type": "code",
   "execution_count": 2,
   "id": "43e5a7f2-8adc-4498-b28a-de84014746a8",
   "metadata": {
    "tags": []
   },
   "outputs": [],
   "source": [
    "import tensorflow as tf\n",
    "from tensorflow.keras.applications.resnet50 import preprocess_input, decode_predictions\n",
    "from tensorflow.keras.preprocessing import image as image\n",
    "import numpy as np\n",
    "import matplotlib.pyplot as plt"
   ]
  },
  {
   "cell_type": "code",
   "execution_count": 3,
   "id": "79df6cb6-7087-445f-8ec8-8165090a7232",
   "metadata": {
    "tags": []
   },
   "outputs": [
    {
     "name": "stdout",
     "output_type": "stream",
     "text": [
      "Warning: Binary output can mess up your terminal. Use \"--output -\" to tell \n",
      "Warning: curl to output it to your terminal anyway, or consider \"--output \n",
      "Warning: <FILE>\" to save to a file.\n"
     ]
    }
   ],
   "source": [
    "!curl https://raw.githubusercontent.com/PracticalDL/Practical-Deep-Learning-Book/master/sample-images/cat.jpg\n",
    "IMG_PATH = '/home/jovyan/work/Images/cat.jpg'"
   ]
  },
  {
   "cell_type": "code",
   "execution_count": 1,
   "id": "086a87e0-bd93-4d68-b5cd-857429078667",
   "metadata": {
    "tags": []
   },
   "outputs": [
    {
     "ename": "NameError",
     "evalue": "name 'image' is not defined",
     "output_type": "error",
     "traceback": [
      "\u001b[0;31m---------------------------------------------------------------------------\u001b[0m",
      "\u001b[0;31mNameError\u001b[0m                                 Traceback (most recent call last)",
      "Cell \u001b[0;32mIn[1], line 1\u001b[0m\n\u001b[0;32m----> 1\u001b[0m img \u001b[38;5;241m=\u001b[39m \u001b[43mimage\u001b[49m\u001b[38;5;241m.\u001b[39mload_img(IMG_PATH, target_size\u001b[38;5;241m=\u001b[39m(\u001b[38;5;241m224\u001b[39m, \u001b[38;5;241m224\u001b[39m))\n\u001b[1;32m      2\u001b[0m \u001b[38;5;66;03m# plt.imshow(img)\u001b[39;00m\n\u001b[1;32m      3\u001b[0m \u001b[38;5;66;03m# plt.show()\u001b[39;00m\n",
      "\u001b[0;31mNameError\u001b[0m: name 'image' is not defined"
     ]
    }
   ],
   "source": [
    "img = image.load_img(IMG_PATH, target_size=(224, 224))\n",
    "# plt.imshow(img)\n",
    "# plt.show()"
   ]
  },
  {
   "cell_type": "code",
   "execution_count": null,
   "id": "a8c0f54d-db24-4b6f-b7f8-8bf173f49ea1",
   "metadata": {
    "tags": []
   },
   "outputs": [
    {
     "name": "stdout",
     "output_type": "stream",
     "text": [
      "Collecting package metadata (current_repodata.json): done\n",
      "Solving environment: done\n",
      "\n",
      "## Package Plan ##\n",
      "\n",
      "  environment location: /opt/conda\n",
      "\n",
      "  added / updated specs:\n",
      "    - pillow\n",
      "\n",
      "\n",
      "The following packages will be downloaded:\n",
      "\n",
      "    package                    |            build\n",
      "    ---------------------------|-----------------\n",
      "    freetype-2.12.1            |       hca18f0e_1         611 KB  conda-forge\n",
      "    jpeg-9e                    |       h166bdaf_2         269 KB  conda-forge\n",
      "    lcms2-2.14                 |       hfd0df8a_1         235 KB  conda-forge\n",
      "    lerc-4.0.0                 |       h27087fc_0         275 KB  conda-forge\n",
      "    libdeflate-1.17            |       h0b41bf4_0          63 KB  conda-forge\n",
      "    libpng-1.6.39              |       h753d276_0         276 KB  conda-forge\n",
      "    libtiff-4.5.0              |       h6adf6a1_2         397 KB  conda-forge\n",
      "    libwebp-base-1.2.4         |       h166bdaf_0         404 KB  conda-forge\n",
      "    libxcb-1.13                |    h7f98852_1004         391 KB  conda-forge\n",
      "    openjpeg-2.5.0             |       hfec8fc6_2         344 KB  conda-forge\n",
      "    pillow-9.4.0               |  py310h023d228_1        44.3 MB  conda-forge\n",
      "    pthread-stubs-0.4          |    h36c2ea0_1001           5 KB  conda-forge\n",
      "    xorg-libxau-1.0.9          |       h7f98852_0          13 KB  conda-forge\n",
      "    xorg-libxdmcp-1.1.3        |       h7f98852_0          19 KB  conda-forge\n",
      "    ------------------------------------------------------------\n",
      "                                           Total:        47.5 MB\n",
      "\n",
      "The following NEW packages will be INSTALLED:\n",
      "\n",
      "  freetype           conda-forge/linux-64::freetype-2.12.1-hca18f0e_1 \n",
      "  jpeg               conda-forge/linux-64::jpeg-9e-h166bdaf_2 \n",
      "  lcms2              conda-forge/linux-64::lcms2-2.14-hfd0df8a_1 \n",
      "  lerc               conda-forge/linux-64::lerc-4.0.0-h27087fc_0 \n",
      "  libdeflate         conda-forge/linux-64::libdeflate-1.17-h0b41bf4_0 \n",
      "  libpng             conda-forge/linux-64::libpng-1.6.39-h753d276_0 \n",
      "  libtiff            conda-forge/linux-64::libtiff-4.5.0-h6adf6a1_2 \n",
      "  libwebp-base       conda-forge/linux-64::libwebp-base-1.2.4-h166bdaf_0 \n",
      "  libxcb             conda-forge/linux-64::libxcb-1.13-h7f98852_1004 \n",
      "  openjpeg           conda-forge/linux-64::openjpeg-2.5.0-hfec8fc6_2 \n",
      "  pillow             conda-forge/linux-64::pillow-9.4.0-py310h023d228_1 \n",
      "  pthread-stubs      conda-forge/linux-64::pthread-stubs-0.4-h36c2ea0_1001 \n",
      "  xorg-libxau        conda-forge/linux-64::xorg-libxau-1.0.9-h7f98852_0 \n",
      "  xorg-libxdmcp      conda-forge/linux-64::xorg-libxdmcp-1.1.3-h7f98852_0 \n",
      "\n",
      "\n",
      "Proceed ([y]/n)? "
     ]
    }
   ],
   "source": [
    "!conda install pillow"
   ]
  },
  {
   "cell_type": "code",
   "execution_count": null,
   "id": "50bc122f-c0da-472c-95dc-d1be6415aea5",
   "metadata": {
    "tags": []
   },
   "outputs": [],
   "source": [
    "!conda install pillow -y"
   ]
  },
  {
   "cell_type": "code",
   "execution_count": null,
   "id": "c70a3e67-478e-4a27-b934-6f62e4514162",
   "metadata": {},
   "outputs": [],
   "source": []
  }
 ],
 "metadata": {
  "kernelspec": {
   "display_name": "Python 3 (ipykernel)",
   "language": "python",
   "name": "python3"
  },
  "language_info": {
   "codemirror_mode": {
    "name": "ipython",
    "version": 3
   },
   "file_extension": ".py",
   "mimetype": "text/x-python",
   "name": "python",
   "nbconvert_exporter": "python",
   "pygments_lexer": "ipython3",
   "version": "3.10.9"
  }
 },
 "nbformat": 4,
 "nbformat_minor": 5
}
